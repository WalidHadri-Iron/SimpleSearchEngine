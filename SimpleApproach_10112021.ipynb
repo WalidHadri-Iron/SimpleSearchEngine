{
 "cells": [
  {
   "cell_type": "code",
   "execution_count": 4,
   "id": "ae3c28c3-9bb6-4ab3-8e61-f83610be5b21",
   "metadata": {},
   "outputs": [],
   "source": [
    "import pandas as pd\n",
    "from nltk.corpus import stopwords\n",
    "from nltk.tokenize import word_tokenize\n",
    "from nltk.tokenize import RegexpTokenizer\n",
    "from collections import Counter\n",
    "import math\n",
    "import numpy as np\n",
    "import nltk\n",
    "import seaborn as sns\n",
    "import matplotlib.pyplot as plt\n",
    "\n",
    "stop_words = set(stopwords.words('english'))"
   ]
  },
  {
   "cell_type": "code",
   "execution_count": 5,
   "id": "e921ced0-b5fd-40e9-aef4-6e2acbd4ba86",
   "metadata": {},
   "outputs": [],
   "source": [
    "df = pd.read_excel(\"Controls_dictionnary_202110_A.xlsx\", sheet_name=\"ALL_ANONYMISED\")"
   ]
  },
  {
   "cell_type": "code",
   "execution_count": 6,
   "id": "2354afe3-64e7-4ca7-8b55-043a2ee6eb90",
   "metadata": {},
   "outputs": [],
   "source": [
    "def measure_words_similarity(word1, word2):\n",
    "    \"\"\"\n",
    "    Return difference in terms of distance between two words\n",
    "    \n",
    "    word1: String\n",
    "    word2: String\n",
    "    \n",
    "    Example:\n",
    "    measure_words_similarity(\"Women\",\"Woman\")\n",
    "    >>>0.2\n",
    "    \"\"\"\n",
    "    word1, word2 = word1.lower(), word2.lower()\n",
    "    return nltk.edit_distance(word1, word2)/max(len(word1), len(word2))\n",
    "\n",
    "def normalise_list_of_words(listA, listB, treshold_word_similarity = 0.3):\n",
    "    \"\"\"\n",
    "    Returns a matrix with similarities between words from 2 lists \n",
    "    \n",
    "    listA: List\n",
    "    listB: List\n",
    "    treshold_word_similarity: int, by default 0.3\n",
    "    \n",
    "    Example:\n",
    "    normalise_list_of_words([\"Women\",\"Man\",\"School\", \"Children\"],[\"Woman\",\"School\", \"Teacher\"])\n",
    "    >>>(['School', 'Women', 'Children', 'Man'],\n",
    "         ['Teacher', 'School', 'Women'],\n",
    "                   Woman  School   Teacher\n",
    "         Women     0.200   1.000  0.857143\n",
    "         Man       0.400   1.000  0.857143\n",
    "         School    1.000   0.000  0.857143\n",
    "         Children  0.875   0.875  0.875000)\n",
    "    \"\"\"\n",
    "    maxtrix_similarity = np.zeros((len(listA),len(listB)))\n",
    "    for i in range(len(listA)):\n",
    "        for j in range(len(listB)):\n",
    "            word1 = listA[i]\n",
    "            word2 = listB[j]\n",
    "            maxtrix_similarity[i,j] = measure_words_similarity(word1, word2)\n",
    "    df = pd.DataFrame(maxtrix_similarity)\n",
    "    df.columns = listB\n",
    "    df.index = listA\n",
    "\n",
    "\n",
    "    seen_A = []\n",
    "    seen_B = []\n",
    "    for i in range(len(listA)):\n",
    "        for j in range(len(listB)):\n",
    "            if listA[i] in set(seen_A).union(seen_B) or listB[j] in set(seen_A).union(seen_B):\n",
    "                continue\n",
    "            if maxtrix_similarity[i,j] < treshold_word_similarity and maxtrix_similarity[i,j]>0:\n",
    "                seen_A.append(listA[i])\n",
    "                seen_B.append(listB[j])\n",
    "    updated_listA = (set(listA) - set(seen_A).union(set(seen_B))).union(set(seen_A))\n",
    "    updated_listB = (set(listB) - set(seen_B).union(set(seen_A))).union(set(seen_A))     \n",
    "    return  list(updated_listA), list(updated_listB), df\n",
    "\n",
    "def tokenize_sentence(input_sentence):\n",
    "    \"\"\"\n",
    "    Return list of tokenized input_sentence\n",
    "    \n",
    "    input_sentence: String\n",
    "    \n",
    "    Example:\n",
    "    tokenize_sentence(\"This is a sample sentence,showing off the stop words filtration.\")\n",
    "    >>>['sample', 'sentence', 'showing', 'stop', 'words', 'filtration']\n",
    "    \"\"\"\n",
    "    tokenizer = RegexpTokenizer(r'\\w+')\n",
    "    input_sentence = tokenizer.tokenize(input_sentence)\n",
    "    input_sentence = ' '.join(input_sentence)\n",
    "    input_sentence_tokenized = word_tokenize(input_sentence)\n",
    "    input_sentence_tokenized = [w for w in input_sentence_tokenized if not w.lower() in stop_words]\n",
    "    input_sentence_tokenized = [w.lower() for w in input_sentence_tokenized]\n",
    "    return input_sentence_tokenized\n",
    "\n",
    "\n",
    "def count_common_words(listA, listB):\n",
    "    \"\"\"\n",
    "    Return the percentage of common words between two lists\n",
    "    \n",
    "    listA: List\n",
    "    listB: List\n",
    "    \n",
    "    Example:\n",
    "    count_common_words([\"machine\",\"learning\",\"homerun\", \"Shakespeare\"],[\"learning\",\"homerun\",\"home\",\"parents\", \"Teacher\"])\n",
    "    >>>0.2857142857142857\n",
    "    \"\"\"\n",
    "    \n",
    "    listA.sort()\n",
    "    listB.sort()\n",
    "    counterA = Counter(listA)\n",
    "    counterB = Counter(listB)\n",
    "    terms_union = set(counterA).union(counterB)\n",
    "    terms_intersect = set(counterA).intersection(counterB)\n",
    "    return len(terms_intersect)/len(terms_union)\n",
    "def counter_cosine_similarity(listA, listB):\n",
    "    \"\"\"\n",
    "    Return the cosine similarity between two lists\n",
    "    \n",
    "    listA: List\n",
    "    listB: List\n",
    "    \n",
    "    Example:\n",
    "    counter_cosine_similarity([\"machine\",\"complex\",\"homerun\", \"Shakespeare\"],[\"complexes\",\"homerun\",\"home\",\"parents\", \"Teacher\"])\n",
    "    >>>0.22360679774997896\n",
    "    \"\"\"\n",
    "    \n",
    "    counterA = Counter(listA)\n",
    "    counterB = Counter(listB)\n",
    "    \n",
    "    terms = set(counterA).union(counterB)\n",
    "    dotprod = sum(counterA.get(k, 0) * counterB.get(k, 0) for k in terms)\n",
    "    magA = math.sqrt(sum(counterA.get(k, 0)**2 for k in terms))\n",
    "    magB = math.sqrt(sum(counterB.get(k, 0)**2 for k in terms))\n",
    "    return dotprod / (magA * magB)\n",
    "\n",
    "def compare_two_tokenized_sentences(first_tokenized_sentence, second_tokenized_sentence, similarity=\"Cosine\"):\n",
    "    \"\"\"\n",
    "    \n",
    "    Cosine\n",
    "    Common_words\n",
    "    \"\"\"\n",
    "    \n",
    "    \n",
    "    if similarity == \"Cosine\":\n",
    "        return counter_cosine_similarity(first_tokenized_sentence, second_tokenized_sentence)\n",
    "    if similarity == \"Common_words\":\n",
    "        return count_common_words(first_tokenized_sentence, second_tokenized_sentence)\n",
    "    \n",
    "\n",
    "def check(input_sentence, row, column):\n",
    "    control_name = row[column]\n",
    "    \n",
    "    ##Tokenization (list of key words)\n",
    "    try:\n",
    "        control_name_tokenized = tokenize_sentence(control_name)\n",
    "        input_sentence_tokenized = tokenize_sentence(input_sentence)\n",
    "\n",
    "        ##Normalization (self normalization + between the two)\n",
    "        control_name_tokenized_normalized = normalise_list_of_words(control_name_tokenized, control_name_tokenized)[0]\n",
    "        input_sentence_tokenized_normalized = normalise_list_of_words(input_sentence_tokenized, input_sentence_tokenized)[0]\n",
    "        control_name_tokenized_normalized, input_sentence_tokenized_normalized, df_similarity= normalise_list_of_words(control_name_tokenized_normalized, input_sentence_tokenized_normalized)\n",
    "\n",
    "        return compare_two_tokenized_sentences(control_name_tokenized_normalized, input_sentence_tokenized_normalized, similarity=\"Cosine\"), input_sentence_tokenized_normalized, control_name_tokenized_normalized\n",
    "    except:\n",
    "        return (\"\",\"\",\"\")\n"
   ]
  },
  {
   "cell_type": "code",
   "execution_count": 13,
   "id": "a1756e35-9335-4d6d-9db8-fe3ae547e09c",
   "metadata": {},
   "outputs": [
    {
     "data": {
      "text/plain": [
       "0.22360679774997896"
      ]
     },
     "execution_count": 13,
     "metadata": {},
     "output_type": "execute_result"
    }
   ],
   "source": [
    "listA, listB = [\"machine\",\"complex\",\"homerun\", \"Shakespeare\"],[\"complexes\",\"homerun\",\"home\",\"parents\", \"Teacher\"]\n",
    "counterA = Counter(listA)\n",
    "counterB = Counter(listB)\n",
    "\n",
    "terms = set(counterA).union(counterB)\n",
    "dotprod = sum(counterA.get(k, 0) * counterB.get(k, 0) for k in terms)\n",
    "magA = math.sqrt(sum(counterA.get(k, 0)**2 for k in terms))\n",
    "magB = math.sqrt(sum(counterB.get(k, 0)**2 for k in terms))\n",
    "dotprod / (magA * magB)"
   ]
  },
  {
   "cell_type": "code",
   "execution_count": 7,
   "id": "d0ed1e6b-5d46-4cac-9076-2ae96d93d476",
   "metadata": {},
   "outputs": [],
   "source": [
    "def get_scores_df(df, input_sentence) : \n",
    "    \"\"\"\n",
    "    Returns : \n",
    "        df_out : (dataframe)\n",
    "        df_scores : (dataframe) \n",
    "    \"\"\"\n",
    "\n",
    "    df_out = pd.DataFrame()\n",
    "    df_scores = pd.DataFrame()\n",
    "    for column in df.columns :\n",
    "        \n",
    "        score, list2, list1  = list(zip(*df.apply(lambda x: check(input_sentence,x,column), axis=1)))\n",
    "        \n",
    "        df_scores_ = pd.DataFrame(data={f\"SCORE {column}\":score})\n",
    "        df_scores = pd.concat([df_scores, df_scores_], axis = 1)\n",
    "        \n",
    "        df_out_ = pd.DataFrame(data={column:df[column], f\"SCORE {column}\":score})\n",
    "        df_out = pd.concat([df_out, df_out_], axis = 1)\n",
    "        \n",
    "        df_scores.replace({\"\":0}, inplace = True)\n",
    "        df_out.replace({\"\":0}, inplace = True)\n",
    "        \n",
    "    return df_out, df_scores"
   ]
  },
  {
   "cell_type": "code",
   "execution_count": 8,
   "id": "80c56ff7-506e-4b2b-b5c8-36f44fcff8ba",
   "metadata": {},
   "outputs": [],
   "source": [
    "input_sentence = \"Please send me the url of FINFRAG report\"\n",
    "df_out, df_scores = get_scores_df(df, input_sentence)"
   ]
  },
  {
   "cell_type": "code",
   "execution_count": 6,
   "id": "3e20874b-284c-4f93-8eb8-3bd27930768a",
   "metadata": {},
   "outputs": [
    {
     "data": {
      "image/png": "[encoded data removed]",
      "text/plain": [
       "<Figure size 720x432 with 2 Axes>"
      ]
     },
     "metadata": {
      "needs_background": "light"
     },
     "output_type": "display_data"
    }
   ],
   "source": [
    "plt.figure(figsize = (10,6))\n",
    "sns.heatmap(df_scores)\n",
    "plt.title(\"Heatmap of similarities\")\n",
    "plt.show()"
   ]
  },
  {
   "cell_type": "code",
   "execution_count": 10,
   "id": "f0e7d1c6-3ffc-4a74-af5b-d71d9430056f",
   "metadata": {},
   "outputs": [],
   "source": [
    "def get_control_name(df, input_sentence, weights = \"uniform\", k = 4):\n",
    "    \"\"\"\n",
    "    Returns : \n",
    "        df_final : (dataframe) df in which was added column 'SCORE' \n",
    "                representing the average of similarity scores.\n",
    "        df_k_best : (dataframe) the top k control names based on \n",
    "                the column 'SCORE'.\n",
    "    \"\"\"\n",
    "    \n",
    "    df_out, df_scores = get_scores_df(df, input_sentence)\n",
    "    \n",
    "    if weights == \"uniform\":\n",
    "        weights = np.ones(df.shape[1]) / df.shape[1]  \n",
    "    \n",
    "    df_final = df.copy()\n",
    "    df_final['SCORE'] =  df_scores.values.dot(weights)\n",
    "    df_k_best = df_final[['Control name', 'SCORE']].sort_values(by = 'SCORE', ascending = False)[:k]\n",
    "    \n",
    "    return df_k_best, df_final    "
   ]
  },
  {
   "cell_type": "code",
   "execution_count": 11,
   "id": "1ef0fa5b-22d7-44fc-b9fb-ad3ea001aa03",
   "metadata": {},
   "outputs": [
    {
     "data": {
      "text/html": [
       "<div>\n",
       "<style scoped>\n",
       "    .dataframe tbody tr th:only-of-type {\n",
       "        vertical-align: middle;\n",
       "    }\n",
       "\n",
       "    .dataframe tbody tr th {\n",
       "        vertical-align: top;\n",
       "    }\n",
       "\n",
       "    .dataframe thead th {\n",
       "        text-align: right;\n",
       "    }\n",
       "</style>\n",
       "<table border=\"1\" class=\"dataframe\">\n",
       "  <thead>\n",
       "    <tr style=\"text-align: right;\">\n",
       "      <th></th>\n",
       "      <th>Control name</th>\n",
       "      <th>SCORE</th>\n",
       "    </tr>\n",
       "  </thead>\n",
       "  <tbody>\n",
       "    <tr>\n",
       "      <th>16</th>\n",
       "      <td>FINFRAG GMDWH</td>\n",
       "      <td>0.038137</td>\n",
       "    </tr>\n",
       "    <tr>\n",
       "      <th>15</th>\n",
       "      <td>FINFRAG RS</td>\n",
       "      <td>0.038137</td>\n",
       "    </tr>\n",
       "    <tr>\n",
       "      <th>42</th>\n",
       "      <td>EMIR Missing LEI ETD - DEC</td>\n",
       "      <td>0.028391</td>\n",
       "    </tr>\n",
       "    <tr>\n",
       "      <th>41</th>\n",
       "      <td>EMIR Missing LEI ETD</td>\n",
       "      <td>0.028391</td>\n",
       "    </tr>\n",
       "  </tbody>\n",
       "</table>\n",
       "</div>"
      ],
      "text/plain": [
       "                  Control name     SCORE\n",
       "16               FINFRAG GMDWH  0.038137\n",
       "15                  FINFRAG RS  0.038137\n",
       "42  EMIR Missing LEI ETD - DEC  0.028391\n",
       "41        EMIR Missing LEI ETD  0.028391"
      ]
     },
     "execution_count": 11,
     "metadata": {},
     "output_type": "execute_result"
    }
   ],
   "source": [
    "input_sentence = \"Please send me the url of FINFRAG report\"\n",
    "df_k_best, df_final = get_control_name(df, input_sentence, weights = \"uniform\", k = 4)\n",
    "df_k_best"
   ]
  },
  {
   "cell_type": "markdown",
   "id": "6a042c5d-da25-42ec-b70a-67cbbf39b0d9",
   "metadata": {},
   "source": [
    "#### Bag of words"
   ]
  },
  {
   "cell_type": "code",
   "execution_count": 9,
   "id": "a9fd699a-e5b4-4868-a07b-8abadc0d17e7",
   "metadata": {},
   "outputs": [],
   "source": [
    "def create_bow(df): \n",
    "    \n",
    "    bow = []\n",
    "    \n",
    "    for i in df.values.reshape(-1):\n",
    "        if i==i:\n",
    "            bow = bow + list(tokenize_sentence(i))\n",
    "    bow = np.unique(bow)\n",
    "    \n",
    "    bow,_,_ = normalise_list_of_words(bow,bow)\n",
    "    return bow\n",
    "\n",
    "bow = create_bow(df)"
   ]
  },
  {
   "cell_type": "code",
   "execution_count": 10,
   "id": "cce68eda-3a4c-48aa-9d53-6a741735dff0",
   "metadata": {},
   "outputs": [],
   "source": [
    "def count_vectorizer(df, bow):\n",
    "    \n",
    "    X = []\n",
    "    for entry in df.values.reshape(-1):\n",
    "        if entry != entry:\n",
    "                X.append([0]*len(bow))\n",
    "        else : \n",
    "            tokenized = tokenize_sentence(entry)\n",
    "            vectorized = []\n",
    "            for word in bow : \n",
    "                a = str(entry).count(word)\n",
    "                vectorized.append(a)\n",
    "            X.append(vectorized)\n",
    "    X = np.array(X)\n",
    "    return X\n",
    "\n",
    "vectorized_df = count_vectorizer(df, bow)"
   ]
  },
  {
   "cell_type": "code",
   "execution_count": 65,
   "id": "12c2501d-7f7e-4015-8625-97a219424ed0",
   "metadata": {},
   "outputs": [],
   "source": [
    "def compute_similarities(input_sentence, df, bow):\n",
    "    \n",
    "    vectorized_df = count_vectorizer(df, bow)\n",
    "    query = []\n",
    "    tokenized = tokenize_sentence(input_sentence)\n",
    "    for word in bow : \n",
    "        a = str(tokenized).count(word)\n",
    "        query.append(a)\n",
    "    query = np.array(query).reshape(-1,1)\n",
    "    \n",
    "    np.linalg.norm(vectorized_df, axis = 1) + 1e-6\n",
    "    vectorized_df_normalized = vectorized_df / (np.linalg.norm(vectorized_df, axis = 1) + 1e-6).reshape(-1,1) \n",
    "    query_normalized = query / (np.linalg.norm(query, axis = 1) + 1e-6).reshape(-1,1) \n",
    "    similarities = vectorized_df_normalized.dot(query_normalized).reshape(df.shape[0], df.shape[1])\n",
    "    \n",
    "    return pd.DataFrame(similarities, columns = df.columns)\n"
   ]
  },
  {
   "cell_type": "code",
   "execution_count": 66,
   "id": "845719d6-5b7a-46cb-a54b-3d14ec2710dc",
   "metadata": {},
   "outputs": [
    {
     "name": "stdout",
     "output_type": "stream",
     "text": [
      "(516, 300)\n"
     ]
    }
   ],
   "source": [
    "input_sentence = \"Kpis Jurisdictions Canada daily It's KPI summing up all volumes The goal of this control is to verify if a\"\n",
    "df_scores = compute_similarities(input_sentence, df, bow)\n",
    "df_final = pd.DataFrame()\n",
    "df_final['Control name'] = df['Control name']\n",
    "df_final['SCORE'] = df_scores.sum(axis = 1) "
   ]
  },
  {
   "cell_type": "code",
   "execution_count": 59,
   "id": "b3d45ed8-1a3d-40fe-99e0-caa8284d33ed",
   "metadata": {},
   "outputs": [
    {
     "data": {
      "image/png": "[encoded data removed]",
      "text/plain": [
       "<Figure size 720x432 with 2 Axes>"
      ]
     },
     "metadata": {
      "needs_background": "light"
     },
     "output_type": "display_data"
    }
   ],
   "source": [
    "plt.figure(figsize = (10,6))\n",
    "sns.heatmap(df_scores)\n",
    "plt.title(\"Heatmap of similarities\")\n",
    "plt.show()"
   ]
  },
  {
   "cell_type": "code",
   "execution_count": 60,
   "id": "f4b3c0ff-d2f5-41f0-98de-d5663e243c50",
   "metadata": {},
   "outputs": [
    {
     "data": {
      "text/html": [
       "<div>\n",
       "<style scoped>\n",
       "    .dataframe tbody tr th:only-of-type {\n",
       "        vertical-align: middle;\n",
       "    }\n",
       "\n",
       "    .dataframe tbody tr th {\n",
       "        vertical-align: top;\n",
       "    }\n",
       "\n",
       "    .dataframe thead th {\n",
       "        text-align: right;\n",
       "    }\n",
       "</style>\n",
       "<table border=\"1\" class=\"dataframe\">\n",
       "  <thead>\n",
       "    <tr style=\"text-align: right;\">\n",
       "      <th></th>\n",
       "      <th>Control name</th>\n",
       "      <th>SCORE</th>\n",
       "    </tr>\n",
       "  </thead>\n",
       "  <tbody>\n",
       "    <tr>\n",
       "      <th>7</th>\n",
       "      <td>CCMC control</td>\n",
       "      <td>1.861424</td>\n",
       "    </tr>\n",
       "    <tr>\n",
       "      <th>42</th>\n",
       "      <td>EMIR Missing LEI ETD - DEC</td>\n",
       "      <td>1.511856</td>\n",
       "    </tr>\n",
       "    <tr>\n",
       "      <th>41</th>\n",
       "      <td>EMIR Missing LEI ETD</td>\n",
       "      <td>1.511856</td>\n",
       "    </tr>\n",
       "    <tr>\n",
       "      <th>2</th>\n",
       "      <td>LIBOR Control</td>\n",
       "      <td>1.408246</td>\n",
       "    </tr>\n",
       "  </tbody>\n",
       "</table>\n",
       "</div>"
      ],
      "text/plain": [
       "                  Control name     SCORE\n",
       "7                 CCMC control  1.861424\n",
       "42  EMIR Missing LEI ETD - DEC  1.511856\n",
       "41        EMIR Missing LEI ETD  1.511856\n",
       "2                LIBOR Control  1.408246"
      ]
     },
     "execution_count": 60,
     "metadata": {},
     "output_type": "execute_result"
    }
   ],
   "source": [
    "df_k_best = df_final[['Control name', 'SCORE']].sort_values(by = 'SCORE', ascending = False)[:4]\n",
    "df_k_best"
   ]
  },
  {
   "cell_type": "code",
   "execution_count": 61,
   "id": "b349c768-6c93-4f1d-81b7-bc941c37f496",
   "metadata": {},
   "outputs": [
    {
     "data": {
      "text/plain": [
       "\"Kpis Jurisdictions Canada daily It's KPI summing up all volumes The goal of this control is to verify if a\""
      ]
     },
     "execution_count": 61,
     "metadata": {},
     "output_type": "execute_result"
    }
   ],
   "source": [
    "input_sentence"
   ]
  },
  {
   "cell_type": "code",
   "execution_count": 62,
   "id": "cc8aadcd-9ce9-4f4c-8424-2a8237ecba93",
   "metadata": {},
   "outputs": [
    {
     "data": {
      "text/plain": [
       "array([['LIBOR Control', 'SSRS',\n",
       "        'The aim is to screen the LIBOR product trade this year', 'ALL',\n",
       "        nan, 'TRUST', 'ABO', 'EB', 'LIBOR,SOR',\n",
       "        'FLOATING_RATE_INDEX,UNDERLYING_MDS', 'https://ANONYMSED_3', nan]],\n",
       "      dtype=object)"
      ]
     },
     "execution_count": 62,
     "metadata": {},
     "output_type": "execute_result"
    }
   ],
   "source": [
    "df[df['Control name'] == 'LIBOR Control'].values"
   ]
  },
  {
   "cell_type": "code",
   "execution_count": null,
   "id": "38c7cd86-749d-4bcf-965e-67a054b24410",
   "metadata": {},
   "outputs": [],
   "source": []
  }
 ],
 "metadata": {
  "kernelspec": {
   "display_name": "Python 3 (ipykernel)",
   "language": "python",
   "name": "python3"
  },
  "language_info": {
   "codemirror_mode": {
    "name": "ipython",
    "version": 3
   },
   "file_extension": ".py",
   "mimetype": "text/x-python",
   "name": "python",
   "nbconvert_exporter": "python",
   "pygments_lexer": "ipython3",
   "version": "3.9.7"
  }
 },
 "nbformat": 4,
 "nbformat_minor": 5
}
